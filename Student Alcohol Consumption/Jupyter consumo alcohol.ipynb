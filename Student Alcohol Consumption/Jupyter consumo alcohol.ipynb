{
 "cells": [
  {
   "cell_type": "markdown",
   "metadata": {},
   "source": [
    "# Consumo de Alcohol en Adolescentes\n",
    "Siguiendo el libro \"Aprende Machine Learning con Scikit-Learn, Keras y Tensorflow\" Ejecutaré un proyecto de Machine Learning."
   ]
  },
  {
   "cell_type": "markdown",
   "metadata": {},
   "source": [
    "# Data Download\n"
   ]
  },
  {
   "cell_type": "code",
   "execution_count": 13,
   "metadata": {},
   "outputs": [
    {
     "name": "stdout",
     "output_type": "stream",
     "text": [
      "student-alcohol-consumption.zip: Skipping, found more recently modified local copy (use --force to force download)\n"
     ]
    }
   ],
   "source": [
    "!kaggle datasets download -d uciml/student-alcohol-consumption"
   ]
  },
  {
   "cell_type": "code",
   "execution_count": 14,
   "metadata": {},
   "outputs": [],
   "source": [
    "import zipfile\n",
    "\n",
    "with zipfile.ZipFile('student-alcohol-consumption.zip', 'r') as zip_ref:\n",
    "    zip_ref.extractall('student-alcohol-consumption')\n"
   ]
  },
  {
   "cell_type": "markdown",
   "metadata": {},
   "source": [
    "# Data Overview"
   ]
  },
  {
   "cell_type": "code",
   "execution_count": 15,
   "metadata": {},
   "outputs": [
    {
     "name": "stdout",
     "output_type": "stream",
     "text": [
      "  school sex  age address famsize Pstatus  Medu  Fedu     Mjob      Fjob  ...  \\\n",
      "0     GP   F   18       U     GT3       A     4     4  at_home   teacher  ...   \n",
      "1     GP   F   17       U     GT3       T     1     1  at_home     other  ...   \n",
      "2     GP   F   15       U     LE3       T     1     1  at_home     other  ...   \n",
      "3     GP   F   15       U     GT3       T     4     2   health  services  ...   \n",
      "4     GP   F   16       U     GT3       T     3     3    other     other  ...   \n",
      "\n",
      "  famrel freetime  goout  Dalc  Walc health absences  G1  G2  G3  \n",
      "0      4        3      4     1     1      3        6   5   6   6  \n",
      "1      5        3      3     1     1      3        4   5   5   6  \n",
      "2      4        3      2     2     3      3       10   7   8  10  \n",
      "3      3        2      2     1     1      5        2  15  14  15  \n",
      "4      4        3      2     1     2      5        4   6  10  10  \n",
      "\n",
      "[5 rows x 33 columns]\n",
      "  school sex  age address famsize Pstatus  Medu  Fedu     Mjob      Fjob  ...  \\\n",
      "0     GP   F   18       U     GT3       A     4     4  at_home   teacher  ...   \n",
      "1     GP   F   17       U     GT3       T     1     1  at_home     other  ...   \n",
      "2     GP   F   15       U     LE3       T     1     1  at_home     other  ...   \n",
      "3     GP   F   15       U     GT3       T     4     2   health  services  ...   \n",
      "4     GP   F   16       U     GT3       T     3     3    other     other  ...   \n",
      "\n",
      "  famrel freetime  goout  Dalc  Walc health absences  G1  G2  G3  \n",
      "0      4        3      4     1     1      3        4   0  11  11  \n",
      "1      5        3      3     1     1      3        2   9  11  11  \n",
      "2      4        3      2     2     3      3        6  12  13  12  \n",
      "3      3        2      2     1     1      5        0  14  14  14  \n",
      "4      4        3      2     1     2      5        0  11  13  13  \n",
      "\n",
      "[5 rows x 33 columns]\n"
     ]
    }
   ],
   "source": [
    "import pandas as pd\n",
    "#Load the datasets\n",
    "math_data = pd.read_csv('student-alcohol-consumption/student-mat.csv')\n",
    "port_data = pd.read_csv('student-alcohol-consumption/student-por.csv')\n",
    "\n",
    "print(math_data.head())\n",
    "print(port_data.head())"
   ]
  },
  {
   "cell_type": "code",
   "execution_count": 16,
   "metadata": {},
   "outputs": [
    {
     "name": "stdout",
     "output_type": "stream",
     "text": [
      "<class 'pandas.core.frame.DataFrame'>\n",
      "RangeIndex: 395 entries, 0 to 394\n",
      "Data columns (total 33 columns):\n",
      " #   Column      Non-Null Count  Dtype \n",
      "---  ------      --------------  ----- \n",
      " 0   school      395 non-null    object\n",
      " 1   sex         395 non-null    object\n",
      " 2   age         395 non-null    int64 \n",
      " 3   address     395 non-null    object\n",
      " 4   famsize     395 non-null    object\n",
      " 5   Pstatus     395 non-null    object\n",
      " 6   Medu        395 non-null    int64 \n",
      " 7   Fedu        395 non-null    int64 \n",
      " 8   Mjob        395 non-null    object\n",
      " 9   Fjob        395 non-null    object\n",
      " 10  reason      395 non-null    object\n",
      " 11  guardian    395 non-null    object\n",
      " 12  traveltime  395 non-null    int64 \n",
      " 13  studytime   395 non-null    int64 \n",
      " 14  failures    395 non-null    int64 \n",
      " 15  schoolsup   395 non-null    object\n",
      " 16  famsup      395 non-null    object\n",
      " 17  paid        395 non-null    object\n",
      " 18  activities  395 non-null    object\n",
      " 19  nursery     395 non-null    object\n",
      " 20  higher      395 non-null    object\n",
      " 21  internet    395 non-null    object\n",
      " 22  romantic    395 non-null    object\n",
      " 23  famrel      395 non-null    int64 \n",
      " 24  freetime    395 non-null    int64 \n",
      " 25  goout       395 non-null    int64 \n",
      " 26  Dalc        395 non-null    int64 \n",
      " 27  Walc        395 non-null    int64 \n",
      " 28  health      395 non-null    int64 \n",
      " 29  absences    395 non-null    int64 \n",
      " 30  G1          395 non-null    int64 \n",
      " 31  G2          395 non-null    int64 \n",
      " 32  G3          395 non-null    int64 \n",
      "dtypes: int64(16), object(17)\n",
      "memory usage: 102.0+ KB\n"
     ]
    }
   ],
   "source": [
    "math_data.info()"
   ]
  },
  {
   "cell_type": "code",
   "execution_count": 17,
   "metadata": {},
   "outputs": [
    {
     "name": "stdout",
     "output_type": "stream",
     "text": [
      "<class 'pandas.core.frame.DataFrame'>\n",
      "RangeIndex: 649 entries, 0 to 648\n",
      "Data columns (total 33 columns):\n",
      " #   Column      Non-Null Count  Dtype \n",
      "---  ------      --------------  ----- \n",
      " 0   school      649 non-null    object\n",
      " 1   sex         649 non-null    object\n",
      " 2   age         649 non-null    int64 \n",
      " 3   address     649 non-null    object\n",
      " 4   famsize     649 non-null    object\n",
      " 5   Pstatus     649 non-null    object\n",
      " 6   Medu        649 non-null    int64 \n",
      " 7   Fedu        649 non-null    int64 \n",
      " 8   Mjob        649 non-null    object\n",
      " 9   Fjob        649 non-null    object\n",
      " 10  reason      649 non-null    object\n",
      " 11  guardian    649 non-null    object\n",
      " 12  traveltime  649 non-null    int64 \n",
      " 13  studytime   649 non-null    int64 \n",
      " 14  failures    649 non-null    int64 \n",
      " 15  schoolsup   649 non-null    object\n",
      " 16  famsup      649 non-null    object\n",
      " 17  paid        649 non-null    object\n",
      " 18  activities  649 non-null    object\n",
      " 19  nursery     649 non-null    object\n",
      " 20  higher      649 non-null    object\n",
      " 21  internet    649 non-null    object\n",
      " 22  romantic    649 non-null    object\n",
      " 23  famrel      649 non-null    int64 \n",
      " 24  freetime    649 non-null    int64 \n",
      " 25  goout       649 non-null    int64 \n",
      " 26  Dalc        649 non-null    int64 \n",
      " 27  Walc        649 non-null    int64 \n",
      " 28  health      649 non-null    int64 \n",
      " 29  absences    649 non-null    int64 \n",
      " 30  G1          649 non-null    int64 \n",
      " 31  G2          649 non-null    int64 \n",
      " 32  G3          649 non-null    int64 \n",
      "dtypes: int64(16), object(17)\n",
      "memory usage: 167.4+ KB\n"
     ]
    }
   ],
   "source": [
    "port_data.info()"
   ]
  },
  {
   "cell_type": "markdown",
   "metadata": {},
   "source": [
    "## Merge"
   ]
  },
  {
   "cell_type": "code",
   "execution_count": 18,
   "metadata": {},
   "outputs": [
    {
     "name": "stdout",
     "output_type": "stream",
     "text": [
      "Number of students in the merged dataset: 382\n"
     ]
    }
   ],
   "source": [
    "d1 = math_data\n",
    "d2 = port_data\n",
    "\n",
    "#Perform the merge\n",
    "df = pd.merge(d1, d2, on=[\"school\", \"sex\", \"age\", \"address\", \"famsize\", \"Pstatus\", \"Medu\", \"Fedu\", \"Mjob\", \"Fjob\", \"reason\", \"nursery\", \"internet\"])\n",
    "print(f\"Number of students in the merged dataset: {len(df)}\")  # Should print 382\n"
   ]
  },
  {
   "cell_type": "code",
   "execution_count": 19,
   "metadata": {},
   "outputs": [
    {
     "name": "stdout",
     "output_type": "stream",
     "text": [
      "<class 'pandas.core.frame.DataFrame'>\n",
      "RangeIndex: 382 entries, 0 to 381\n",
      "Data columns (total 53 columns):\n",
      " #   Column        Non-Null Count  Dtype \n",
      "---  ------        --------------  ----- \n",
      " 0   school        382 non-null    object\n",
      " 1   sex           382 non-null    object\n",
      " 2   age           382 non-null    int64 \n",
      " 3   address       382 non-null    object\n",
      " 4   famsize       382 non-null    object\n",
      " 5   Pstatus       382 non-null    object\n",
      " 6   Medu          382 non-null    int64 \n",
      " 7   Fedu          382 non-null    int64 \n",
      " 8   Mjob          382 non-null    object\n",
      " 9   Fjob          382 non-null    object\n",
      " 10  reason        382 non-null    object\n",
      " 11  guardian_x    382 non-null    object\n",
      " 12  traveltime_x  382 non-null    int64 \n",
      " 13  studytime_x   382 non-null    int64 \n",
      " 14  failures_x    382 non-null    int64 \n",
      " 15  schoolsup_x   382 non-null    object\n",
      " 16  famsup_x      382 non-null    object\n",
      " 17  paid_x        382 non-null    object\n",
      " 18  activities_x  382 non-null    object\n",
      " 19  nursery       382 non-null    object\n",
      " 20  higher_x      382 non-null    object\n",
      " 21  internet      382 non-null    object\n",
      " 22  romantic_x    382 non-null    object\n",
      " 23  famrel_x      382 non-null    int64 \n",
      " 24  freetime_x    382 non-null    int64 \n",
      " 25  goout_x       382 non-null    int64 \n",
      " 26  Dalc_x        382 non-null    int64 \n",
      " 27  Walc_x        382 non-null    int64 \n",
      " 28  health_x      382 non-null    int64 \n",
      " 29  absences_x    382 non-null    int64 \n",
      " 30  G1_x          382 non-null    int64 \n",
      " 31  G2_x          382 non-null    int64 \n",
      " 32  G3_x          382 non-null    int64 \n",
      " 33  guardian_y    382 non-null    object\n",
      " 34  traveltime_y  382 non-null    int64 \n",
      " 35  studytime_y   382 non-null    int64 \n",
      " 36  failures_y    382 non-null    int64 \n",
      " 37  schoolsup_y   382 non-null    object\n",
      " 38  famsup_y      382 non-null    object\n",
      " 39  paid_y        382 non-null    object\n",
      " 40  activities_y  382 non-null    object\n",
      " 41  higher_y      382 non-null    object\n",
      " 42  romantic_y    382 non-null    object\n",
      " 43  famrel_y      382 non-null    int64 \n",
      " 44  freetime_y    382 non-null    int64 \n",
      " 45  goout_y       382 non-null    int64 \n",
      " 46  Dalc_y        382 non-null    int64 \n",
      " 47  Walc_y        382 non-null    int64 \n",
      " 48  health_y      382 non-null    int64 \n",
      " 49  absences_y    382 non-null    int64 \n",
      " 50  G1_y          382 non-null    int64 \n",
      " 51  G2_y          382 non-null    int64 \n",
      " 52  G3_y          382 non-null    int64 \n",
      "dtypes: int64(29), object(24)\n",
      "memory usage: 158.3+ KB\n"
     ]
    }
   ],
   "source": [
    "df.info()"
   ]
  },
  {
   "cell_type": "markdown",
   "metadata": {},
   "source": [
    "### Value Counts of object types"
   ]
  },
  {
   "cell_type": "code",
   "execution_count": 20,
   "metadata": {},
   "outputs": [
    {
     "name": "stdout",
     "output_type": "stream",
     "text": [
      "Value Counts for column school:\n",
      "school\n",
      "GP    342\n",
      "MS     40\n",
      "Name: count, dtype: int64\n",
      "\n",
      "Value Counts for column sex:\n",
      "sex\n",
      "F    198\n",
      "M    184\n",
      "Name: count, dtype: int64\n",
      "\n",
      "Value Counts for column address:\n",
      "address\n",
      "U    301\n",
      "R     81\n",
      "Name: count, dtype: int64\n",
      "\n",
      "Value Counts for column famsize:\n",
      "famsize\n",
      "GT3    278\n",
      "LE3    104\n",
      "Name: count, dtype: int64\n",
      "\n",
      "Value Counts for column Pstatus:\n",
      "Pstatus\n",
      "T    344\n",
      "A     38\n",
      "Name: count, dtype: int64\n",
      "\n",
      "Value Counts for column Mjob:\n",
      "Mjob\n",
      "other       138\n",
      "services     96\n",
      "teacher      62\n",
      "at_home      53\n",
      "health       33\n",
      "Name: count, dtype: int64\n",
      "\n",
      "Value Counts for column Fjob:\n",
      "Fjob\n",
      "other       211\n",
      "services    107\n",
      "teacher      31\n",
      "health       17\n",
      "at_home      16\n",
      "Name: count, dtype: int64\n",
      "\n",
      "Value Counts for column reason:\n",
      "reason\n",
      "course        140\n",
      "home          110\n",
      "reputation     98\n",
      "other          34\n",
      "Name: count, dtype: int64\n",
      "\n",
      "Value Counts for column guardian_x:\n",
      "guardian_x\n",
      "mother    275\n",
      "father     91\n",
      "other      16\n",
      "Name: count, dtype: int64\n",
      "\n",
      "Value Counts for column schoolsup_x:\n",
      "schoolsup_x\n",
      "no     331\n",
      "yes     51\n",
      "Name: count, dtype: int64\n",
      "\n",
      "Value Counts for column famsup_x:\n",
      "famsup_x\n",
      "yes    238\n",
      "no     144\n",
      "Name: count, dtype: int64\n",
      "\n",
      "Value Counts for column paid_x:\n",
      "paid_x\n",
      "no     205\n",
      "yes    177\n",
      "Name: count, dtype: int64\n",
      "\n",
      "Value Counts for column activities_x:\n",
      "activities_x\n",
      "yes    201\n",
      "no     181\n",
      "Name: count, dtype: int64\n",
      "\n",
      "Value Counts for column nursery:\n",
      "nursery\n",
      "yes    310\n",
      "no      72\n",
      "Name: count, dtype: int64\n",
      "\n",
      "Value Counts for column higher_x:\n",
      "higher_x\n",
      "yes    364\n",
      "no      18\n",
      "Name: count, dtype: int64\n",
      "\n",
      "Value Counts for column internet:\n",
      "internet\n",
      "yes    324\n",
      "no      58\n",
      "Name: count, dtype: int64\n",
      "\n",
      "Value Counts for column romantic_x:\n",
      "romantic_x\n",
      "no     261\n",
      "yes    121\n",
      "Name: count, dtype: int64\n",
      "\n",
      "Value Counts for column guardian_y:\n",
      "guardian_y\n",
      "mother    275\n",
      "father     91\n",
      "other      16\n",
      "Name: count, dtype: int64\n",
      "\n",
      "Value Counts for column schoolsup_y:\n",
      "schoolsup_y\n",
      "no     332\n",
      "yes     50\n",
      "Name: count, dtype: int64\n",
      "\n",
      "Value Counts for column famsup_y:\n",
      "famsup_y\n",
      "yes    239\n",
      "no     143\n",
      "Name: count, dtype: int64\n",
      "\n",
      "Value Counts for column paid_y:\n",
      "paid_y\n",
      "no     356\n",
      "yes     26\n",
      "Name: count, dtype: int64\n",
      "\n",
      "Value Counts for column activities_y:\n",
      "activities_y\n",
      "yes    200\n",
      "no     182\n",
      "Name: count, dtype: int64\n",
      "\n",
      "Value Counts for column higher_y:\n",
      "higher_y\n",
      "yes    364\n",
      "no      18\n",
      "Name: count, dtype: int64\n",
      "\n",
      "Value Counts for column romantic_y:\n",
      "romantic_y\n",
      "no     259\n",
      "yes    123\n",
      "Name: count, dtype: int64\n",
      "\n"
     ]
    }
   ],
   "source": [
    "for column in df.columns:\n",
    "    if df[column].dtype == 'object':\n",
    "        print(f\"Value Counts for column {column}:\\n{df[column].value_counts()}\\n\")"
   ]
  },
  {
   "cell_type": "code",
   "execution_count": 21,
   "metadata": {},
   "outputs": [
    {
     "name": "stdout",
     "output_type": "stream",
     "text": [
      "              age        Medu        Fedu  traveltime_x  studytime_x  \\\n",
      "count  382.000000  382.000000  382.000000    382.000000   382.000000   \n",
      "mean    16.586387    2.806283    2.565445      1.442408     2.034031   \n",
      "std      1.173470    1.086381    1.096240      0.695378     0.845798   \n",
      "min     15.000000    0.000000    0.000000      1.000000     1.000000   \n",
      "25%     16.000000    2.000000    2.000000      1.000000     1.000000   \n",
      "50%     17.000000    3.000000    3.000000      1.000000     2.000000   \n",
      "75%     17.000000    4.000000    4.000000      2.000000     2.000000   \n",
      "max     22.000000    4.000000    4.000000      4.000000     4.000000   \n",
      "\n",
      "       failures_x    famrel_x  freetime_x     goout_x      Dalc_x      Walc_x  \\\n",
      "count  382.000000  382.000000  382.000000  382.000000  382.000000  382.000000   \n",
      "mean     0.290576    3.939791    3.222513    3.112565    1.473822    2.280105   \n",
      "std      0.729481    0.921620    0.988233    1.131927    0.886229    1.282866   \n",
      "min      0.000000    1.000000    1.000000    1.000000    1.000000    1.000000   \n",
      "25%      0.000000    4.000000    3.000000    2.000000    1.000000    1.000000   \n",
      "50%      0.000000    4.000000    3.000000    3.000000    1.000000    2.000000   \n",
      "75%      0.000000    5.000000    4.000000    4.000000    2.000000    3.000000   \n",
      "max      3.000000    5.000000    5.000000    5.000000    5.000000    5.000000   \n",
      "\n",
      "         health_x  absences_x        G1_x        G2_x        G3_x  \\\n",
      "count  382.000000  382.000000  382.000000  382.000000  382.000000   \n",
      "mean     3.578534    5.319372   10.861257   10.712042   10.387435   \n",
      "std      1.400360    7.625251    3.349167    3.832560    4.687242   \n",
      "min      1.000000    0.000000    3.000000    0.000000    0.000000   \n",
      "25%      3.000000    0.000000    8.000000    8.250000    8.000000   \n",
      "50%      4.000000    3.000000   10.500000   11.000000   11.000000   \n",
      "75%      5.000000    8.000000   13.000000   13.000000   14.000000   \n",
      "max      5.000000   75.000000   19.000000   19.000000   20.000000   \n",
      "\n",
      "       traveltime_y  studytime_y  failures_y    famrel_y  freetime_y  \\\n",
      "count    382.000000   382.000000  382.000000  382.000000  382.000000   \n",
      "mean       1.445026     2.039267    0.141361    3.942408    3.230366   \n",
      "std        0.699354     0.845571    0.513253    0.908884    0.985096   \n",
      "min        1.000000     1.000000    0.000000    1.000000    1.000000   \n",
      "25%        1.000000     1.000000    0.000000    4.000000    3.000000   \n",
      "50%        1.000000     2.000000    0.000000    4.000000    3.000000   \n",
      "75%        2.000000     2.000000    0.000000    5.000000    4.000000   \n",
      "max        4.000000     4.000000    3.000000    5.000000    5.000000   \n",
      "\n",
      "          goout_y      Dalc_y      Walc_y    health_y  absences_y        G1_y  \\\n",
      "count  382.000000  382.000000  382.000000  382.000000  382.000000  382.000000   \n",
      "mean     3.117801    1.476440    2.290576    3.575916    3.672775   12.112565   \n",
      "std      1.133710    0.886303    1.282577    1.404248    4.905965    2.556531   \n",
      "min      1.000000    1.000000    1.000000    1.000000    0.000000    0.000000   \n",
      "25%      2.000000    1.000000    1.000000    3.000000    0.000000   10.000000   \n",
      "50%      3.000000    1.000000    2.000000    4.000000    2.000000   12.000000   \n",
      "75%      4.000000    2.000000    3.000000    5.000000    6.000000   14.000000   \n",
      "max      5.000000    5.000000    5.000000    5.000000   32.000000   19.000000   \n",
      "\n",
      "             G2_y        G3_y  \n",
      "count  382.000000  382.000000  \n",
      "mean    12.238220   12.515707  \n",
      "std      2.468341    2.945438  \n",
      "min      5.000000    0.000000  \n",
      "25%     11.000000   11.000000  \n",
      "50%     12.000000   13.000000  \n",
      "75%     14.000000   14.000000  \n",
      "max     19.000000   19.000000  \n"
     ]
    }
   ],
   "source": [
    "with pd.option_context('display.max_columns', None):\n",
    "    print(df.describe())"
   ]
  },
  {
   "cell_type": "code",
   "execution_count": 22,
   "metadata": {},
   "outputs": [
    {
     "data": {
      "image/png": "[encoded data removed]",
      "text/plain": [
       "<Figure size 1200x800 with 30 Axes>"
      ]
     },
     "metadata": {},
     "output_type": "display_data"
    }
   ],
   "source": [
    "import matplotlib.pyplot as plt\n",
    "\n",
    "# Select only the numeric columns\n",
    "numeric_columns = df.select_dtypes(include='number')\n",
    "\n",
    "# Plot histograms for each numeric column\n",
    "numeric_columns.hist(bins=10, figsize=(12, 8))\n",
    "plt.tight_layout()\n",
    "plt.show()\n"
   ]
  }
 ],
 "metadata": {
  "kernelspec": {
   "display_name": "alcohol_consumption",
   "language": "python",
   "name": "python3"
  },
  "language_info": {
   "codemirror_mode": {
    "name": "ipython",
    "version": 3
   },
   "file_extension": ".py",
   "mimetype": "text/x-python",
   "name": "python",
   "nbconvert_exporter": "python",
   "pygments_lexer": "ipython3",
   "version": "3.8.10"
  }
 },
 "nbformat": 4,
 "nbformat_minor": 2
}
