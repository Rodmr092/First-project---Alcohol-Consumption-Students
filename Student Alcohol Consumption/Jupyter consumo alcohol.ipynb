{
 "cells": [
  {
   "cell_type": "markdown",
   "metadata": {},
   "source": [
    "# Consumo de Alcohol en Adolescentes\n",
    "Siguiendo el libro \"Aprende Machine Learning con Scikit-Learn, Keras y Tensorflow\" Ejecutaré un proyecto de Machine Learning."
   ]
  },
  {
   "cell_type": "markdown",
   "metadata": {},
   "source": [
    "# Data Download\n"
   ]
  },
  {
   "cell_type": "code",
   "execution_count": 60,
   "metadata": {},
   "outputs": [
    {
     "name": "stderr",
     "output_type": "stream",
     "text": [
      "\"kaggle\" no se reconoce como un comando interno o externo,\n",
      "programa o archivo por lotes ejecutable.\n"
     ]
    }
   ],
   "source": [
    "!kaggle datasets download -d uciml/student-alcohol-consumption"
   ]
  },
  {
   "cell_type": "code",
   "execution_count": 61,
   "metadata": {},
   "outputs": [],
   "source": [
    "import zipfile\n",
    "\n",
    "with zipfile.ZipFile('student-alcohol-consumption.zip', 'r') as zip_ref:\n",
    "    zip_ref.extractall('student-alcohol-consumption')\n"
   ]
  },
  {
   "cell_type": "markdown",
   "metadata": {},
   "source": [
    "# Data Overview"
   ]
  },
  {
   "cell_type": "code",
   "execution_count": 62,
   "metadata": {},
   "outputs": [
    {
     "name": "stdout",
     "output_type": "stream",
     "text": [
      "  school sex  age address famsize Pstatus  Medu  Fedu     Mjob      Fjob  ...  \\\n",
      "0     GP   F   18       U     GT3       A     4     4  at_home   teacher  ...   \n",
      "1     GP   F   17       U     GT3       T     1     1  at_home     other  ...   \n",
      "2     GP   F   15       U     LE3       T     1     1  at_home     other  ...   \n",
      "3     GP   F   15       U     GT3       T     4     2   health  services  ...   \n",
      "4     GP   F   16       U     GT3       T     3     3    other     other  ...   \n",
      "\n",
      "  famrel freetime  goout  Dalc  Walc health absences  G1  G2  G3  \n",
      "0      4        3      4     1     1      3        6   5   6   6  \n",
      "1      5        3      3     1     1      3        4   5   5   6  \n",
      "2      4        3      2     2     3      3       10   7   8  10  \n",
      "3      3        2      2     1     1      5        2  15  14  15  \n",
      "4      4        3      2     1     2      5        4   6  10  10  \n",
      "\n",
      "[5 rows x 33 columns]\n",
      "  school sex  age address famsize Pstatus  Medu  Fedu     Mjob      Fjob  ...  \\\n",
      "0     GP   F   18       U     GT3       A     4     4  at_home   teacher  ...   \n",
      "1     GP   F   17       U     GT3       T     1     1  at_home     other  ...   \n",
      "2     GP   F   15       U     LE3       T     1     1  at_home     other  ...   \n",
      "3     GP   F   15       U     GT3       T     4     2   health  services  ...   \n",
      "4     GP   F   16       U     GT3       T     3     3    other     other  ...   \n",
      "\n",
      "  famrel freetime  goout  Dalc  Walc health absences  G1  G2  G3  \n",
      "0      4        3      4     1     1      3        4   0  11  11  \n",
      "1      5        3      3     1     1      3        2   9  11  11  \n",
      "2      4        3      2     2     3      3        6  12  13  12  \n",
      "3      3        2      2     1     1      5        0  14  14  14  \n",
      "4      4        3      2     1     2      5        0  11  13  13  \n",
      "\n",
      "[5 rows x 33 columns]\n"
     ]
    }
   ],
   "source": [
    "import pandas as pd\n",
    "#Load the datasets\n",
    "math_data = pd.read_csv('student-alcohol-consumption/student-mat.csv')\n",
    "port_data = pd.read_csv('student-alcohol-consumption/student-por.csv')\n",
    "\n",
    "print(math_data.head())\n",
    "print(port_data.head())"
   ]
  },
  {
   "cell_type": "code",
   "execution_count": 63,
   "metadata": {},
   "outputs": [
    {
     "name": "stdout",
     "output_type": "stream",
     "text": [
      "<class 'pandas.core.frame.DataFrame'>\n",
      "RangeIndex: 395 entries, 0 to 394\n",
      "Data columns (total 33 columns):\n",
      " #   Column      Non-Null Count  Dtype \n",
      "---  ------      --------------  ----- \n",
      " 0   school      395 non-null    object\n",
      " 1   sex         395 non-null    object\n",
      " 2   age         395 non-null    int64 \n",
      " 3   address     395 non-null    object\n",
      " 4   famsize     395 non-null    object\n",
      " 5   Pstatus     395 non-null    object\n",
      " 6   Medu        395 non-null    int64 \n",
      " 7   Fedu        395 non-null    int64 \n",
      " 8   Mjob        395 non-null    object\n",
      " 9   Fjob        395 non-null    object\n",
      " 10  reason      395 non-null    object\n",
      " 11  guardian    395 non-null    object\n",
      " 12  traveltime  395 non-null    int64 \n",
      " 13  studytime   395 non-null    int64 \n",
      " 14  failures    395 non-null    int64 \n",
      " 15  schoolsup   395 non-null    object\n",
      " 16  famsup      395 non-null    object\n",
      " 17  paid        395 non-null    object\n",
      " 18  activities  395 non-null    object\n",
      " 19  nursery     395 non-null    object\n",
      " 20  higher      395 non-null    object\n",
      " 21  internet    395 non-null    object\n",
      " 22  romantic    395 non-null    object\n",
      " 23  famrel      395 non-null    int64 \n",
      " 24  freetime    395 non-null    int64 \n",
      " 25  goout       395 non-null    int64 \n",
      " 26  Dalc        395 non-null    int64 \n",
      " 27  Walc        395 non-null    int64 \n",
      " 28  health      395 non-null    int64 \n",
      " 29  absences    395 non-null    int64 \n",
      " 30  G1          395 non-null    int64 \n",
      " 31  G2          395 non-null    int64 \n",
      " 32  G3          395 non-null    int64 \n",
      "dtypes: int64(16), object(17)\n",
      "memory usage: 102.0+ KB\n"
     ]
    }
   ],
   "source": [
    "math_data.info()"
   ]
  },
  {
   "cell_type": "code",
   "execution_count": 64,
   "metadata": {},
   "outputs": [
    {
     "name": "stdout",
     "output_type": "stream",
     "text": [
      "<class 'pandas.core.frame.DataFrame'>\n",
      "RangeIndex: 649 entries, 0 to 648\n",
      "Data columns (total 33 columns):\n",
      " #   Column      Non-Null Count  Dtype \n",
      "---  ------      --------------  ----- \n",
      " 0   school      649 non-null    object\n",
      " 1   sex         649 non-null    object\n",
      " 2   age         649 non-null    int64 \n",
      " 3   address     649 non-null    object\n",
      " 4   famsize     649 non-null    object\n",
      " 5   Pstatus     649 non-null    object\n",
      " 6   Medu        649 non-null    int64 \n",
      " 7   Fedu        649 non-null    int64 \n",
      " 8   Mjob        649 non-null    object\n",
      " 9   Fjob        649 non-null    object\n",
      " 10  reason      649 non-null    object\n",
      " 11  guardian    649 non-null    object\n",
      " 12  traveltime  649 non-null    int64 \n",
      " 13  studytime   649 non-null    int64 \n",
      " 14  failures    649 non-null    int64 \n",
      " 15  schoolsup   649 non-null    object\n",
      " 16  famsup      649 non-null    object\n",
      " 17  paid        649 non-null    object\n",
      " 18  activities  649 non-null    object\n",
      " 19  nursery     649 non-null    object\n",
      " 20  higher      649 non-null    object\n",
      " 21  internet    649 non-null    object\n",
      " 22  romantic    649 non-null    object\n",
      " 23  famrel      649 non-null    int64 \n",
      " 24  freetime    649 non-null    int64 \n",
      " 25  goout       649 non-null    int64 \n",
      " 26  Dalc        649 non-null    int64 \n",
      " 27  Walc        649 non-null    int64 \n",
      " 28  health      649 non-null    int64 \n",
      " 29  absences    649 non-null    int64 \n",
      " 30  G1          649 non-null    int64 \n",
      " 31  G2          649 non-null    int64 \n",
      " 32  G3          649 non-null    int64 \n",
      "dtypes: int64(16), object(17)\n",
      "memory usage: 167.4+ KB\n"
     ]
    }
   ],
   "source": [
    "port_data.info()"
   ]
  },
  {
   "cell_type": "markdown",
   "metadata": {},
   "source": [
    "## Merge"
   ]
  },
  {
   "cell_type": "code",
   "execution_count": 65,
   "metadata": {},
   "outputs": [
    {
     "name": "stdout",
     "output_type": "stream",
     "text": [
      "Number of students in the merged dataset: 382\n"
     ]
    }
   ],
   "source": [
    "d1 = math_data\n",
    "d2 = port_data\n",
    "\n",
    "#Perform the merge\n",
    "merge1 = pd.merge(d1, d2, on=[\"school\", \"sex\", \"age\", \"address\", \"famsize\", \"Pstatus\", \"Medu\", \"Fedu\", \"Mjob\", \"Fjob\", \"reason\", \"nursery\", \"internet\"])\n",
    "print(f\"Number of students in the merged dataset: {len(merge1)}\")  # Should print 382\n"
   ]
  },
  {
   "cell_type": "code",
   "execution_count": 66,
   "metadata": {},
   "outputs": [
    {
     "name": "stdout",
     "output_type": "stream",
     "text": [
      "    school sex  age address famsize Pstatus  Medu  Fedu      Mjob      Fjob  \\\n",
      "0       GP   F   18       U     GT3       A     4     4   at_home   teacher   \n",
      "1       GP   F   17       U     GT3       T     1     1   at_home     other   \n",
      "2       GP   F   15       U     LE3       T     1     1   at_home     other   \n",
      "3       GP   F   15       U     GT3       T     4     2    health  services   \n",
      "4       GP   F   16       U     GT3       T     3     3     other     other   \n",
      "..     ...  ..  ...     ...     ...     ...   ...   ...       ...       ...   \n",
      "376     MS   F   19       R     GT3       T     2     3  services     other   \n",
      "377     MS   F   18       U     LE3       T     3     1   teacher  services   \n",
      "379     MS   F   18       U     GT3       T     1     1     other     other   \n",
      "380     MS   M   17       U     LE3       T     3     1  services  services   \n",
      "381     MS   M   18       R     LE3       T     3     2  services     other   \n",
      "\n",
      "     ... health  Dalc Walc famrel guardian  higher  romantic  schoolsup  \\\n",
      "0    ...    3.0   1.0  1.0    4.0   mother     yes        no        yes   \n",
      "1    ...    3.0   1.0  1.0    5.0   father     yes        no         no   \n",
      "2    ...    3.0   2.0  3.0    4.0   mother     yes        no        yes   \n",
      "3    ...    5.0   1.0  1.0    3.0   mother     yes       yes         no   \n",
      "4    ...    5.0   1.0  2.0    4.0   father     yes        no         no   \n",
      "..   ...    ...   ...  ...    ...      ...     ...       ...        ...   \n",
      "376  ...    5.0   1.0  2.0    5.0   mother     yes        no         no   \n",
      "377  ...    1.0   1.0  1.0    4.0   mother     yes        no         no   \n",
      "379  ...    5.0   1.0  1.0    1.0   mother     yes        no         no   \n",
      "380  ...    2.0   3.0  4.0    2.0   mother     yes        no         no   \n",
      "381  ...    5.0   3.0  4.0    4.0   mother     yes        no         no   \n",
      "\n",
      "     famsup  activities  \n",
      "0        no          no  \n",
      "1       yes          no  \n",
      "2        no          no  \n",
      "3       yes         yes  \n",
      "4       yes          no  \n",
      "..      ...         ...  \n",
      "376      no         yes  \n",
      "377     yes          no  \n",
      "379      no         yes  \n",
      "380      no          no  \n",
      "381      no          no  \n",
      "\n",
      "[370 rows x 39 columns]\n"
     ]
    }
   ],
   "source": [
    "# Further merge...\n",
    "import numpy as np\n",
    "\n",
    "# Make a copy of the original DataFrame to work on\n",
    "df = merge1.copy()\n",
    "\n",
    "# Variables to check for merging, including the new ones\n",
    "variables_to_merge = [\"traveltime\", \"studytime\", \"goout\", \"freetime\", \"health\", \"Dalc\", \"Walc\", \"famrel\",\n",
    "                      \"guardian\", \"higher\", \"romantic\", \"schoolsup\", \"famsup\", \"activities\"]\n",
    "\n",
    "for var in variables_to_merge:\n",
    "    x_col = f\"{var}_x\"\n",
    "    y_col = f\"{var}_y\"\n",
    "    \n",
    "    # Check if the '_x' and '_y' columns have identical non-NaN values\n",
    "    identical_mask = (df[x_col] == df[y_col]) | (df[x_col].isna() & df[y_col].isna())\n",
    "    \n",
    "    # For identical values, keep the value in a new column without '_x' or '_y' suffix\n",
    "    # If values differ, the result is NaN\n",
    "    df[var] = np.where(identical_mask, df[x_col], np.nan)\n",
    "    \n",
    "    # Drop the original '_x' and '_y' columns\n",
    "    df.drop(columns=[x_col, y_col], inplace=True)\n",
    "\n",
    "# Drop rows where '_x' and '_y' values were not identical\n",
    "# This removes any row where at least one of the specified variables had differing '_x' and '_y' values\n",
    "df.dropna(subset=variables_to_merge, inplace=True)\n",
    "\n",
    "# Display the resulting DataFrame\n",
    "print(df)"
   ]
  },
  {
   "cell_type": "code",
   "execution_count": 67,
   "metadata": {},
   "outputs": [
    {
     "name": "stdout",
     "output_type": "stream",
     "text": [
      "<class 'pandas.core.frame.DataFrame'>\n",
      "Index: 370 entries, 0 to 381\n",
      "Data columns (total 39 columns):\n",
      " #   Column      Non-Null Count  Dtype  \n",
      "---  ------      --------------  -----  \n",
      " 0   school      370 non-null    object \n",
      " 1   sex         370 non-null    object \n",
      " 2   age         370 non-null    int64  \n",
      " 3   address     370 non-null    object \n",
      " 4   famsize     370 non-null    object \n",
      " 5   Pstatus     370 non-null    object \n",
      " 6   Medu        370 non-null    int64  \n",
      " 7   Fedu        370 non-null    int64  \n",
      " 8   Mjob        370 non-null    object \n",
      " 9   Fjob        370 non-null    object \n",
      " 10  reason      370 non-null    object \n",
      " 11  failures_x  370 non-null    int64  \n",
      " 12  paid_x      370 non-null    object \n",
      " 13  nursery     370 non-null    object \n",
      " 14  internet    370 non-null    object \n",
      " 15  absences_x  370 non-null    int64  \n",
      " 16  G1_x        370 non-null    int64  \n",
      " 17  G2_x        370 non-null    int64  \n",
      " 18  G3_x        370 non-null    int64  \n",
      " 19  failures_y  370 non-null    int64  \n",
      " 20  paid_y      370 non-null    object \n",
      " 21  absences_y  370 non-null    int64  \n",
      " 22  G1_y        370 non-null    int64  \n",
      " 23  G2_y        370 non-null    int64  \n",
      " 24  G3_y        370 non-null    int64  \n",
      " 25  traveltime  370 non-null    float64\n",
      " 26  studytime   370 non-null    float64\n",
      " 27  goout       370 non-null    float64\n",
      " 28  freetime    370 non-null    float64\n",
      " 29  health      370 non-null    float64\n",
      " 30  Dalc        370 non-null    float64\n",
      " 31  Walc        370 non-null    float64\n",
      " 32  famrel      370 non-null    float64\n",
      " 33  guardian    370 non-null    object \n",
      " 34  higher      370 non-null    object \n",
      " 35  romantic    370 non-null    object \n",
      " 36  schoolsup   370 non-null    object \n",
      " 37  famsup      370 non-null    object \n",
      " 38  activities  370 non-null    object \n",
      "dtypes: float64(8), int64(13), object(18)\n",
      "memory usage: 115.6+ KB\n"
     ]
    }
   ],
   "source": [
    "df.info()"
   ]
  },
  {
   "cell_type": "markdown",
   "metadata": {},
   "source": [
    "### Value Counts of object types"
   ]
  },
  {
   "cell_type": "code",
   "execution_count": 68,
   "metadata": {},
   "outputs": [
    {
     "name": "stdout",
     "output_type": "stream",
     "text": [
      "Value Counts for column school:\n",
      "school\n",
      "GP    331\n",
      "MS     39\n",
      "Name: count, dtype: int64\n",
      "\n",
      "Value Counts for column sex:\n",
      "sex\n",
      "F    195\n",
      "M    175\n",
      "Name: count, dtype: int64\n",
      "\n",
      "Value Counts for column address:\n",
      "address\n",
      "U    289\n",
      "R     81\n",
      "Name: count, dtype: int64\n",
      "\n",
      "Value Counts for column famsize:\n",
      "famsize\n",
      "GT3    266\n",
      "LE3    104\n",
      "Name: count, dtype: int64\n",
      "\n",
      "Value Counts for column Pstatus:\n",
      "Pstatus\n",
      "T    332\n",
      "A     38\n",
      "Name: count, dtype: int64\n",
      "\n",
      "Value Counts for column Mjob:\n",
      "Mjob\n",
      "other       134\n",
      "services     93\n",
      "teacher      57\n",
      "at_home      53\n",
      "health       33\n",
      "Name: count, dtype: int64\n",
      "\n",
      "Value Counts for column Fjob:\n",
      "Fjob\n",
      "other       205\n",
      "services    103\n",
      "teacher      29\n",
      "health       17\n",
      "at_home      16\n",
      "Name: count, dtype: int64\n",
      "\n",
      "Value Counts for column reason:\n",
      "reason\n",
      "course        135\n",
      "home          103\n",
      "reputation     98\n",
      "other          34\n",
      "Name: count, dtype: int64\n",
      "\n",
      "Value Counts for column paid_x:\n",
      "paid_x\n",
      "no     196\n",
      "yes    174\n",
      "Name: count, dtype: int64\n",
      "\n",
      "Value Counts for column nursery:\n",
      "nursery\n",
      "yes    298\n",
      "no      72\n",
      "Name: count, dtype: int64\n",
      "\n",
      "Value Counts for column internet:\n",
      "internet\n",
      "yes    313\n",
      "no      57\n",
      "Name: count, dtype: int64\n",
      "\n",
      "Value Counts for column paid_y:\n",
      "paid_y\n",
      "no     345\n",
      "yes     25\n",
      "Name: count, dtype: int64\n",
      "\n",
      "Value Counts for column guardian:\n",
      "guardian\n",
      "mother    266\n",
      "father     88\n",
      "other      16\n",
      "Name: count, dtype: int64\n",
      "\n",
      "Value Counts for column higher:\n",
      "higher\n",
      "yes    354\n",
      "no      16\n",
      "Name: count, dtype: int64\n",
      "\n",
      "Value Counts for column romantic:\n",
      "romantic\n",
      "no     251\n",
      "yes    119\n",
      "Name: count, dtype: int64\n",
      "\n",
      "Value Counts for column schoolsup:\n",
      "schoolsup\n",
      "no     321\n",
      "yes     49\n",
      "Name: count, dtype: int64\n",
      "\n",
      "Value Counts for column famsup:\n",
      "famsup\n",
      "yes    231\n",
      "no     139\n",
      "Name: count, dtype: int64\n",
      "\n",
      "Value Counts for column activities:\n",
      "activities\n",
      "yes    191\n",
      "no     179\n",
      "Name: count, dtype: int64\n",
      "\n"
     ]
    }
   ],
   "source": [
    "for column in df.columns:\n",
    "    if df[column].dtype == 'object':\n",
    "        print(f\"Value Counts for column {column}:\\n{df[column].value_counts()}\\n\")"
   ]
  },
  {
   "cell_type": "code",
   "execution_count": 69,
   "metadata": {},
   "outputs": [
    {
     "name": "stdout",
     "output_type": "stream",
     "text": [
      "              age        Medu        Fedu  failures_x  absences_x        G1_x  \\\n",
      "count  370.000000  370.000000  370.000000  370.000000  370.000000  370.000000   \n",
      "mean    16.575676    2.800000    2.556757    0.278378    5.381081   10.891892   \n",
      "std      1.180672    1.083505    1.086138    0.710599    7.665653    3.345375   \n",
      "min     15.000000    0.000000    0.000000    0.000000    0.000000    3.000000   \n",
      "25%     16.000000    2.000000    2.000000    0.000000    0.000000    8.000000   \n",
      "50%     17.000000    3.000000    3.000000    0.000000    4.000000   11.000000   \n",
      "75%     17.000000    4.000000    3.750000    0.000000    8.000000   13.000000   \n",
      "max     22.000000    4.000000    4.000000    3.000000   75.000000   19.000000   \n",
      "\n",
      "             G2_x        G3_x  failures_y  absences_y        G1_y        G2_y  \\\n",
      "count  370.000000  370.000000  370.000000  370.000000  370.000000  370.000000   \n",
      "mean    10.751351   10.464865    0.132432    3.632432   12.135135   12.270270   \n",
      "std      3.800986    4.608830    0.489762    4.827656    2.552029    2.465465   \n",
      "min      0.000000    0.000000    0.000000    0.000000    0.000000    5.000000   \n",
      "25%      9.000000    8.000000    0.000000    0.000000   10.000000   11.000000   \n",
      "50%     11.000000   11.000000    0.000000    2.000000   12.000000   12.000000   \n",
      "75%     13.000000   14.000000    0.000000    6.000000   14.000000   14.000000   \n",
      "max     19.000000   20.000000    3.000000   32.000000   19.000000   19.000000   \n",
      "\n",
      "             G3_y  traveltime   studytime       goout    freetime      health  \\\n",
      "count  370.000000  370.000000  370.000000  370.000000  370.000000  370.000000   \n",
      "mean    12.554054    1.445946    2.043243    3.116216    3.224324    3.562162   \n",
      "std      2.943653    0.701178    0.847934    1.128592    0.985506    1.407558   \n",
      "min      0.000000    1.000000    1.000000    1.000000    1.000000    1.000000   \n",
      "25%     11.000000    1.000000    1.000000    2.000000    3.000000    3.000000   \n",
      "50%     13.000000    1.000000    2.000000    3.000000    3.000000    4.000000   \n",
      "75%     14.000000    2.000000    2.000000    4.000000    4.000000    5.000000   \n",
      "max     19.000000    4.000000    4.000000    5.000000    5.000000    5.000000   \n",
      "\n",
      "             Dalc        Walc      famrel  \n",
      "count  370.000000  370.000000  370.000000  \n",
      "mean     1.483784    2.294595    3.935135  \n",
      "std      0.896247    1.290878    0.911301  \n",
      "min      1.000000    1.000000    1.000000  \n",
      "25%      1.000000    1.000000    4.000000  \n",
      "50%      1.000000    2.000000    4.000000  \n",
      "75%      2.000000    3.000000    5.000000  \n",
      "max      5.000000    5.000000    5.000000  \n"
     ]
    }
   ],
   "source": [
    "with pd.option_context('display.max_columns', None):\n",
    "    print(df.describe())"
   ]
  },
  {
   "cell_type": "code",
   "execution_count": 70,
   "metadata": {},
   "outputs": [
    {
     "data": {
      "image/png": "[encoded data removed]",
      "text/plain": [
       "<Figure size 1200x800 with 25 Axes>"
      ]
     },
     "metadata": {},
     "output_type": "display_data"
    }
   ],
   "source": [
    "import matplotlib.pyplot as plt\n",
    "\n",
    "# Select only the numeric columns\n",
    "numeric_columns = df.select_dtypes(include='number')\n",
    "\n",
    "# Plot histograms for each numeric column\n",
    "numeric_columns.hist(bins=10, figsize=(12, 8))\n",
    "plt.tight_layout()\n",
    "plt.show()\n"
   ]
  },
  {
   "cell_type": "code",
   "execution_count": 71,
   "metadata": {},
   "outputs": [],
   "source": [
    "df_unprocessed = df.copy()"
   ]
  },
  {
   "cell_type": "markdown",
   "metadata": {},
   "source": [
    "# Testing sample"
   ]
  },
  {
   "cell_type": "markdown",
   "metadata": {},
   "source": [
    "## Create a unique identifier to avoid contamination when the dataset gets updated"
   ]
  },
  {
   "cell_type": "code",
   "execution_count": 72,
   "metadata": {},
   "outputs": [
    {
     "name": "stdout",
     "output_type": "stream",
     "text": [
      "    school sex  age address famsize Pstatus  Medu  Fedu      Mjob      Fjob  \\\n",
      "0       GP   F   18       U     GT3       A     4     4   at_home   teacher   \n",
      "1       GP   F   17       U     GT3       T     1     1   at_home     other   \n",
      "2       GP   F   15       U     LE3       T     1     1   at_home     other   \n",
      "3       GP   F   15       U     GT3       T     4     2    health  services   \n",
      "4       GP   F   16       U     GT3       T     3     3     other     other   \n",
      "..     ...  ..  ...     ...     ...     ...   ...   ...       ...       ...   \n",
      "376     MS   F   19       R     GT3       T     2     3  services     other   \n",
      "377     MS   F   18       U     LE3       T     3     1   teacher  services   \n",
      "379     MS   F   18       U     GT3       T     1     1     other     other   \n",
      "380     MS   M   17       U     LE3       T     3     1  services  services   \n",
      "381     MS   M   18       R     LE3       T     3     2  services     other   \n",
      "\n",
      "     ... Dalc  Walc famrel guardian higher  romantic  schoolsup  famsup  \\\n",
      "0    ...  1.0   1.0    4.0   mother    yes        no        yes      no   \n",
      "1    ...  1.0   1.0    5.0   father    yes        no         no     yes   \n",
      "2    ...  2.0   3.0    4.0   mother    yes        no        yes      no   \n",
      "3    ...  1.0   1.0    3.0   mother    yes       yes         no     yes   \n",
      "4    ...  1.0   2.0    4.0   father    yes        no         no     yes   \n",
      "..   ...  ...   ...    ...      ...    ...       ...        ...     ...   \n",
      "376  ...  1.0   2.0    5.0   mother    yes        no         no      no   \n",
      "377  ...  1.0   1.0    4.0   mother    yes        no         no     yes   \n",
      "379  ...  1.0   1.0    1.0   mother    yes        no         no      no   \n",
      "380  ...  3.0   4.0    2.0   mother    yes        no         no      no   \n",
      "381  ...  3.0   4.0    4.0   mother    yes        no         no      no   \n",
      "\n",
      "     activities                         unique_id  \n",
      "0            no  2f055c39c35e46146400ac07c6033497  \n",
      "1            no  517bd177af04e4ac5b604ec1ac472cf5  \n",
      "2            no  47837fd93aec65d83d3e4dfd3294160c  \n",
      "3           yes  929234fb8f36ba1cf0af443dc527c354  \n",
      "4            no  cbc5970ca99051bf44d1567fb3d12b23  \n",
      "..          ...                               ...  \n",
      "376         yes  ccb5f35f076cb03de65254400089635c  \n",
      "377          no  d1f0fae5f2dae506935a9e7b424abee7  \n",
      "379         yes  dc3093ea3b2a9b34110fc6cc4db77bf2  \n",
      "380          no  e47bfd771192b0b3e136478ed1b29b92  \n",
      "381          no  29fcf1ed3866a1c7779f903f47e5b2aa  \n",
      "\n",
      "[370 rows x 40 columns]\n"
     ]
    }
   ],
   "source": [
    "import hashlib\n",
    "\n",
    "# Create a function to hash the values in each row\n",
    "def hash_row(row):\n",
    "    values = row.values\n",
    "    hash_object = hashlib.md5(str(values).encode())\n",
    "    return hash_object.hexdigest()\n",
    "\n",
    "# Apply the hash function to create a unique identifier for each row\n",
    "df['unique_id'] = df.apply(hash_row, axis=1)\n",
    "\n",
    "# Print the dataframe with the unique identifier\n",
    "print(df)\n"
   ]
  },
  {
   "cell_type": "code",
   "execution_count": 74,
   "metadata": {},
   "outputs": [
    {
     "name": "stdout",
     "output_type": "stream",
     "text": [
      "Entrenamiento: 296, Prueba: 74, Total: 370\n"
     ]
    }
   ],
   "source": [
    "from sklearn.model_selection import train_test_split\n",
    "\n",
    "# Asumimos que 'df' ya está limpio y listo para dividir\n",
    "# Estratificamos por la columna 'sex', asumiendo que esta es la que contiene el género\n",
    "X = df.drop(columns=['sex'])  # Omitimos la columna 'sex' en X\n",
    "y = df['sex']  # Usamos 'sex' como la variable para estratificar\n",
    "\n",
    "# Dividir el conjunto de datos estratificadamente\n",
    "X_train, X_test, y_train, y_test = train_test_split(X, y, test_size=0.2, stratify=y, random_state=42)\n",
    "\n",
    "# Combina X y y de entrenamiento/prueba para reconstruir los conjuntos completos\n",
    "train_set = pd.concat([X_train, y_train], axis=1)\n",
    "test_set = pd.concat([X_test, y_test], axis=1)\n"
   ]
  },
  {
   "cell_type": "markdown",
   "metadata": {},
   "source": [
    "### Stratify by sex"
   ]
  },
  {
   "cell_type": "code",
   "execution_count": 75,
   "metadata": {},
   "outputs": [
    {
     "name": "stdout",
     "output_type": "stream",
     "text": [
      "Conjunto de entrenamiento inicial: 294, Conjunto de prueba inicial: 76\n"
     ]
    }
   ],
   "source": [
    "# Asumiendo que df tiene una columna 'unique_id' que quieres usar para la división consistente\n",
    "def in_test_set(uid, test_ratio=0.2):\n",
    "    # Esta es una función simplificada que asume que el hash ya está en 'unique_id'\n",
    "    return int(uid, 16) % 100 < test_ratio * 100\n",
    "\n",
    "# Crear una máscara booleana para seleccionar el conjunto de prueba basado en el 'unique_id'\n",
    "is_test = df['unique_id'].apply(in_test_set)\n",
    "\n",
    "# Dividir el DataFrame en conjuntos de entrenamiento y prueba usando la máscara\n",
    "train_set = df[~is_test]\n",
    "test_set = df[is_test]\n",
    "\n",
    "print(f\"Conjunto de entrenamiento inicial: {len(train_set)}, Conjunto de prueba inicial: {len(test_set)}\")\n"
   ]
  }
 ],
 "metadata": {
  "kernelspec": {
   "display_name": "alcohol_consumption",
   "language": "python",
   "name": "python3"
  },
  "language_info": {
   "codemirror_mode": {
    "name": "ipython",
    "version": 3
   },
   "file_extension": ".py",
   "mimetype": "text/x-python",
   "name": "python",
   "nbconvert_exporter": "python",
   "pygments_lexer": "ipython3",
   "version": "3.12.1"
  }
 },
 "nbformat": 4,
 "nbformat_minor": 2
}
